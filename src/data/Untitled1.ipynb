{
 "cells": [
  {
   "cell_type": "code",
   "execution_count": 1,
   "id": "1b92417a-8bcc-4ace-9597-9add297242b5",
   "metadata": {},
   "outputs": [],
   "source": [
    "from vndb_thigh_highs import VNDB\n",
    "from vndb_thigh_highs.models import VN, Character, Producer\n",
    "import json\n",
    "\n",
    "vndb = VNDB()"
   ]
  },
  {
   "cell_type": "code",
   "execution_count": 2,
   "id": "153dc9c0-c716-4752-9cb2-c5a1d8624da0",
   "metadata": {},
   "outputs": [],
   "source": [
    "def string_gen():\n",
    "    x = input()\n",
    "    all = []\n",
    "    while x != '0':\n",
    "        all.append(x)\n",
    "        x = input()\n",
    "    print(all)"
   ]
  },
  {
   "cell_type": "code",
   "execution_count": 11,
   "id": "ca347c2f-ed40-40d3-bbbb-6519d232823b",
   "metadata": {
    "tags": []
   },
   "outputs": [],
   "source": [
    "kanonInfo = []\n",
    "kanonList = ['Kawasumi Mai', 'Minase Nayuki', 'Misaka Shiori', 'Sawatari Makoto', 'Tsukimiya Ayu']\n",
    "vnname = 'Kanon'\n",
    "for x in kanonList:\n",
    "    temp = {}\n",
    "    cs = vndb.get_all_character(Character.name == x)\n",
    "    for c in cs:\n",
    "        checkTitle = vndb.get_vn(VN.id == c.vns[0].vn_id)[0].title\n",
    "        if checkTitle == vnname:\n",
    "            temp['English Name'] = x\n",
    "            temp['Original Name'] = c.original_name\n",
    "            temp['Height'] = c.height\n",
    "            temp['Weight'] = c.weight\n",
    "            temp['Measurements'] = [c.bust, c.waist, c.hip]\n",
    "            temp['Birthday'] = str(c.birthday.month)+'/'+str(c.birthday.day)\n",
    "            temp[\"First Appearance Series\"] = vndb.get_vn(VN.id == c.vns[0].vn_id)[0].title\n",
    "            kanonInfo.append(temp)\n",
    "        else:\n",
    "            pass\n",
    "\n",
    "with open('kanon.json', 'w') as outfile:\n",
    "    json.dump(kanonInfo, outfile)"
   ]
  },
  {
   "cell_type": "code",
   "execution_count": 8,
   "id": "911358f2-cead-4647-8133-3c399becaebb",
   "metadata": {},
   "outputs": [
    {
     "name": "stderr",
     "output_type": "stream",
     "text": [
      "Waiting because of throttled: Throttle limit reached. (type: sql, min: 2.6s, full: 62.6s)\n",
      "Resuming after throttled\n"
     ]
    },
    {
     "name": "stdout",
     "output_type": "stream",
     "text": [
      "<vndb_thigh_highs.models.character.Character object at 0x107ff4970>\n"
     ]
    }
   ],
   "source": [
    "print(vndb.get_all_character(Character.name == 'Yui')[0])"
   ]
  },
  {
   "cell_type": "code",
   "execution_count": 12,
   "id": "033a447c-1be4-4a6c-8f6a-453aa43fac26",
   "metadata": {
    "tags": []
   },
   "outputs": [],
   "source": [
    "airInfo = []\n",
    "airList = ['Kamio Misuzu', 'Kirishima Kano', 'Toono Minagi']\n",
    "vnname = 'AIR'\n",
    "for x in airList:\n",
    "    temp = {}\n",
    "    cs = vndb.get_all_character(Character.name == x)\n",
    "    for c in cs:\n",
    "        checkTitle = vndb.get_vn(VN.id == c.vns[0].vn_id)[0].title\n",
    "        if checkTitle == vnname:\n",
    "            temp['English Name'] = x\n",
    "            temp['Original Name'] = c.original_name\n",
    "            temp['Height'] = c.height\n",
    "            temp['Weight'] = c.weight\n",
    "            temp['Measurements'] = [c.bust, c.waist, c.hip]\n",
    "            temp['Birthday'] = str(c.birthday.month)+'/'+str(c.birthday.day)\n",
    "            temp[\"First Appearance Series\"] = vndb.get_vn(VN.id == c.vns[0].vn_id)[0].title\n",
    "            airInfo.append(temp)\n",
    "        else:\n",
    "            pass\n",
    "\n",
    "with open('air.json', 'w') as outfile:\n",
    "    json.dump(airInfo, outfile)"
   ]
  },
  {
   "cell_type": "code",
   "execution_count": 5,
   "id": "9cc42314-cdc4-4868-b2d6-bec3a2eee4da",
   "metadata": {
    "tags": []
   },
   "outputs": [],
   "source": [
    "cInfo = []\n",
    "cList = ['Fujibayashi Kyou', 'Fujibayashi Ryou', 'Furukawa Nagisa', 'Ibuki Fuuko', 'Ichinose Kotomi', 'Sakagami Tomoyo']\n",
    "for x in cList:\n",
    "    temp = {}\n",
    "    c = vndb.get_character(Character.name == x)[0]\n",
    "    temp['English Name'] = x\n",
    "    temp['Original Name'] = c.original_name\n",
    "    temp['Height'] = c.height\n",
    "    temp['Weight'] = c.weight\n",
    "    temp['Measurements'] = [c.bust, c.waist, c.hip]\n",
    "    temp['Birthday'] = str(c.birthday.month)+'/'+str(c.birthday.day)\n",
    "    temp[\"First Appearance Series\"] = vndb.get_vn(VN.id == c.vns[0].vn_id)[0].title\n",
    "    cInfo.append(temp)\n",
    "\n",
    "with open('clannad.json', 'w') as outfile:\n",
    "    json.dump(cInfo, outfile)"
   ]
  },
  {
   "cell_type": "code",
   "execution_count": 7,
   "id": "59cf5934-ac65-4b9b-b22c-4b0b824387b5",
   "metadata": {},
   "outputs": [],
   "source": [
    "pInfo = []\n",
    "pList = ['Hoshino Yumemi']\n",
    "for x in pList:\n",
    "    temp = {}\n",
    "    c = vndb.get_character(Character.name == x)[0]\n",
    "    temp['English Name'] = x\n",
    "    temp['Original Name'] = c.original_name\n",
    "    temp['Height'] = c.height\n",
    "    temp['Weight'] = c.weight\n",
    "    temp['Measurements'] = [c.bust, c.waist, c.hip]\n",
    "    temp['Birthday'] = str(c.birthday.month)+'/'+str(c.birthday.day)\n",
    "    temp[\"First Appearance Series\"] = vndb.get_vn(VN.id == c.vns[0].vn_id)[0].title\n",
    "    pInfo.append(temp)\n",
    "\n",
    "with open('planetarian.json', 'w') as outfile:\n",
    "    json.dump(pInfo, outfile)"
   ]
  },
  {
   "cell_type": "code",
   "execution_count": 8,
   "id": "987b51bf-9d89-4592-82fe-b1640a4cfe3f",
   "metadata": {},
   "outputs": [],
   "source": [
    "rewriteInfo = []\n",
    "rewriteList = ['Kagari', 'Kanbe Kotori', 'Konohana Lucia', 'Nakatsu Shizuru', 'Ootori Chihaya', 'Senri Akane']\n",
    "for x in rewriteList:\n",
    "    temp = {}\n",
    "    c = vndb.get_character(Character.name == x)[0]\n",
    "    temp['English Name'] = x\n",
    "    temp['Original Name'] = c.original_name\n",
    "    temp['Height'] = c.height\n",
    "    temp['Weight'] = c.weight\n",
    "    temp['Measurements'] = [c.bust, c.waist, c.hip]\n",
    "    temp['Birthday'] = str(c.birthday.month)+'/'+str(c.birthday.day)\n",
    "    temp[\"First Appearance Series\"] = vndb.get_vn(VN.id == c.vns[0].vn_id)[0].title\n",
    "    rewriteInfo.append(temp)\n",
    "\n",
    "with open('rewrite.json', 'w') as outfile:\n",
    "    json.dump(rewriteInfo, outfile)"
   ]
  },
  {
   "cell_type": "code",
   "execution_count": 15,
   "id": "26bf0d2c-d7a4-4627-bcd0-2f2acb6b72df",
   "metadata": {},
   "outputs": [
    {
     "name": "stderr",
     "output_type": "stream",
     "text": [
      "Waiting because of throttled: Throttle limit reached. (type: sql, min: 5.5s, full: 65.5s)\n",
      "Resuming after throttled\n"
     ]
    }
   ],
   "source": [
    "abInfo = []\n",
    "abList = ['Hinata Hideki', 'Iwasawa Masami', 'Matsushita Godan', 'Nakamura Yuri', 'Tachibana Kanade', 'Yui']\n",
    "vnname = 'Angel Beats! -1st beat-'\n",
    "for x in abList:\n",
    "    temp = {}\n",
    "    cs = vndb.get_all_character(Character.name == x)\n",
    "    for c in cs:\n",
    "        checkTitle = vndb.get_vn(VN.id == c.vns[0].vn_id)[0].title\n",
    "        if checkTitle == vnname:\n",
    "            temp['English Name'] = x\n",
    "            temp['Original Name'] = c.original_name\n",
    "            temp['Height'] = c.height\n",
    "            temp['Weight'] = c.weight\n",
    "            temp['Measurements'] = [c.bust, c.waist, c.hip]\n",
    "            temp['Birthday'] = str(c.birthday.month)+'/'+str(c.birthday.day)\n",
    "            temp[\"First Appearance Series\"] = vndb.get_vn(VN.id == c.vns[0].vn_id)[0].title\n",
    "            abInfo.append(temp)\n",
    "        else:\n",
    "            pass\n",
    "\n",
    "with open('angelbeats.json', 'w') as outfile:\n",
    "    json.dump(abInfo, outfile)"
   ]
  },
  {
   "cell_type": "code",
   "execution_count": 10,
   "id": "7984f1d6-a263-4eaa-9f57-22d97e73f376",
   "metadata": {},
   "outputs": [
    {
     "name": "stderr",
     "output_type": "stream",
     "text": [
      "Waiting because of throttled: Throttle limit reached. (type: sql, min: 2.2s, full: 62.2s)\n",
      "Resuming after throttled\n"
     ]
    }
   ],
   "source": [
    "spInfo = []\n",
    "spList = ['Kamiyama Shiki', 'Katou Umi', 'Kushima Kamome', 'Mizuori Shizuku', 'Naruse Shiroha', 'Nomura Miki', 'Sorakado Ao', 'Tsumugi Wenders']\n",
    "for x in spList:\n",
    "    temp = {}\n",
    "    c = vndb.get_character(Character.name == x)[0]\n",
    "    temp['English Name'] = x\n",
    "    temp['Original Name'] = c.original_name\n",
    "    temp['Height'] = c.height\n",
    "    temp['Weight'] = c.weight\n",
    "    temp['Measurements'] = [c.bust, c.waist, c.hip]\n",
    "    temp['Birthday'] = str(c.birthday.month)+'/'+str(c.birthday.day)\n",
    "    temp[\"First Appearance Series\"] = vndb.get_vn(VN.id == c.vns[0].vn_id)[0].title\n",
    "    spInfo.append(temp)\n",
    "\n",
    "with open('summerpockets.json', 'w') as outfile:\n",
    "    json.dump(spInfo, outfile)"
   ]
  },
  {
   "cell_type": "code",
   "execution_count": 11,
   "id": "1e4f8f8f-9a76-4a27-89e1-24d7b0992283",
   "metadata": {},
   "outputs": [
    {
     "name": "stderr",
     "output_type": "stream",
     "text": [
      "Waiting because of throttled: Throttle limit reached. (type: sql, min: 1.6s, full: 61.6s)\n",
      "Resuming after throttled\n"
     ]
    }
   ],
   "source": [
    "lbInfo = []\n",
    "lbList = ['Futaki Kanata', 'Inohara Masato', 'Kamikita Komari', 'Kurugaya Yuiko', 'Miyazawa Kengo', 'Natsume Kyousuke', 'Natsume Rin', 'Nishizono Mio', 'Noumi Kudryavka', 'Saigusa Haruka', 'Sasasegawa Sasami', 'Tokido Saya']\n",
    "for x in lbList:\n",
    "    temp = {}\n",
    "    c = vndb.get_character(Character.name == x)[0]\n",
    "    temp['English Name'] = x\n",
    "    temp['Original Name'] = c.original_name\n",
    "    temp['Height'] = c.height\n",
    "    temp['Weight'] = c.weight\n",
    "    temp['Measurements'] = [c.bust, c.waist, c.hip]\n",
    "    temp['Birthday'] = str(c.birthday.month)+'/'+str(c.birthday.day)\n",
    "    temp[\"First Appearance Series\"] = vndb.get_vn(VN.id == c.vns[0].vn_id)[0].title\n",
    "    lbInfo.append(temp)\n",
    "\n",
    "with open('littlebusters.json', 'w') as outfile:\n",
    "    json.dump(lbInfo, outfile)"
   ]
  },
  {
   "cell_type": "code",
   "execution_count": 14,
   "id": "38310b15-2291-49dc-a33e-112436a9b2c0",
   "metadata": {},
   "outputs": [],
   "source": [
    "from AnilistPython import Anilist\n",
    "anilist = Anilist()"
   ]
  },
  {
   "cell_type": "code",
   "execution_count": 16,
   "id": "b7a21f1f-3452-4b9c-8349-0504b93f4b2c",
   "metadata": {},
   "outputs": [],
   "source": [
    "HarmoniaInfo = []\n",
    "HarmoniaList = ['Shiona', 'Tipi']\n",
    "vnname = 'Harmonia'\n",
    "for x in HarmoniaList:\n",
    "    temp = {}\n",
    "    cs = vndb.get_all_character(Character.name == x)\n",
    "    for c in cs:\n",
    "        checkTitle = vndb.get_vn(VN.id == c.vns[0].vn_id)[0].title\n",
    "        if checkTitle == vnname:\n",
    "            temp['English Name'] = x\n",
    "            temp['Original Name'] = c.original_name\n",
    "            temp['Height'] = c.height\n",
    "            temp['Weight'] = c.weight\n",
    "            temp['Measurements'] = [c.bust, c.waist, c.hip]\n",
    "            temp['Birthday'] = str(c.birthday.month)+'/'+str(c.birthday.day)\n",
    "            temp[\"First Appearance Series\"] = vndb.get_vn(VN.id == c.vns[0].vn_id)[0].title\n",
    "            HarmoniaInfo.append(temp)\n",
    "        else:\n",
    "            pass\n",
    "\n",
    "with open('harmonia.json', 'w') as outfile:\n",
    "    json.dump(HarmoniaInfo, outfile)"
   ]
  },
  {
   "cell_type": "code",
   "execution_count": null,
   "id": "7cda032a-dcd6-4331-b739-327b43d3ece9",
   "metadata": {},
   "outputs": [],
   "source": []
  }
 ],
 "metadata": {
  "kernelspec": {
   "display_name": "Python 3 (ipykernel)",
   "language": "python",
   "name": "python3"
  },
  "language_info": {
   "codemirror_mode": {
    "name": "ipython",
    "version": 3
   },
   "file_extension": ".py",
   "mimetype": "text/x-python",
   "name": "python",
   "nbconvert_exporter": "python",
   "pygments_lexer": "ipython3",
   "version": "3.10.4"
  },
  "vscode": {
   "interpreter": {
    "hash": "aee8b7b246df8f9039afb4144a1f6fd8d2ca17a180786b69acc140d282b71a49"
   }
  }
 },
 "nbformat": 4,
 "nbformat_minor": 5
}
