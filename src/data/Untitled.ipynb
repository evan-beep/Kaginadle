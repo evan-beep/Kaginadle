{
 "cells": [
  {
   "cell_type": "code",
   "execution_count": 1,
   "id": "ab4d7ba8-4045-4aa1-9339-8e9997eed40a",
   "metadata": {},
   "outputs": [],
   "source": [
    " import json "
   ]
  },
  {
   "cell_type": "code",
   "execution_count": 2,
   "id": "e7ead32f-be19-44e7-9234-2082b2d2fe41",
   "metadata": {},
   "outputs": [],
   "source": [
    "import requests\n",
    "from bs4 import BeautifulSoup"
   ]
  },
  {
   "cell_type": "code",
   "execution_count": 3,
   "id": "214012e4-7efd-4cc0-a8c9-d227e345ee7e",
   "metadata": {},
   "outputs": [],
   "source": [
    "x = ''\n",
    "charalist = ['棗鈴', '神北小毬', '三枝葉留佳' ,'能美クドリャフカ', '来ヶ谷唯湖', '西園美魚','二木佳奈多', '笹瀬川佐々美', '朱鷺戸沙耶']\n",
    "lbjson = {}\n",
    "for x in charalist:\n",
    "    try:\n",
    "        saveinfo = {}\n",
    "\n",
    "        URL = \"https://dic.nicovideo.jp/a/\"+x\n",
    "        page = requests.get(URL)\n",
    "        soup = BeautifulSoup(page.content, \"html.parser\")\n",
    "        allinfo = soup.find_all(\"tr\")\n",
    "\n",
    "        somelist = []\n",
    "        counter = 0\n",
    "        for info in allinfo:\n",
    "            tdlist = info.find_all('td')\n",
    "            if len(tdlist)==2:\n",
    "                for td in tdlist:\n",
    "                    somelist.append(td.get_text())\n",
    "                    counter+=1\n",
    "\n",
    "        saveinfo[\"Birthday\"] = somelist[1].replace('月', '/').replace('日', '')\n",
    "        saveinfo[\"Height\"] = int(somelist[3].replace('cm', ''))\n",
    "        saveinfo[\"Weight\"] = int(somelist[5].replace('kg', ''))\n",
    "        saveinfo[\"Measurements\"] = somelist[7].split(\" / \")\n",
    "        saveinfo[\"First Appeareance Series\"] = \"Little Busters\"\n",
    "        lbjson[x] = saveinfo\n",
    "    except:\n",
    "        print('skip')\n",
    "\n",
    "with open('littlebusters.json', 'w') as outfile:\n",
    "    json.dump(lbjson, outfile)"
   ]
  },
  {
   "cell_type": "code",
   "execution_count": null,
   "id": "115c21a4-6e8e-49be-88da-2beb6946dab2",
   "metadata": {},
   "outputs": [],
   "source": [
    "x = ''\n",
    "charalist = ['棗鈴', '神北小毬', '三枝葉留佳' ,'能美クドリャフカ', '来ヶ谷唯湖', '西園美魚','二木佳奈多', '笹瀬川佐々美', '朱鷺戸沙耶']\n",
    "lbjson = {}\n",
    "for x in charalist:\n",
    "    try:\n",
    "        saveinfo = {}\n",
    "\n",
    "        URL = \"https://dic.nicovideo.jp/a/\"+x\n",
    "        page = requests.get(URL)\n",
    "        soup = BeautifulSoup(page.content, \"html.parser\")\n",
    "        allinfo = soup.find_all(\"tr\")\n",
    "\n",
    "        somelist = []\n",
    "        counter = 0\n",
    "        for info in allinfo:\n",
    "            tdlist = info.find_all('td')\n",
    "            if len(tdlist)==2:\n",
    "                for td in tdlist:\n",
    "                    somelist.append(td.get_text())\n",
    "                    counter+=1\n",
    "\n",
    "        saveinfo[\"Birthday\"] = somelist[1].replace('月', '/').replace('日', '')\n",
    "        saveinfo[\"Height\"] = int(somelist[3].replace('cm', ''))\n",
    "        saveinfo[\"Weight\"] = int(somelist[5].replace('kg', ''))\n",
    "        saveinfo[\"Measurements\"] = somelist[7].split(\" / \")\n",
    "        saveinfo[\"First Appeareance Series\"] = \"Little Busters\"\n",
    "        lbjson[x] = saveinfo\n",
    "    except:\n",
    "        print('skip')\n",
    "\n",
    "with open('littlebusters.json', 'w') as outfile:\n",
    "    json.dump(lbjson, outfile)"
   ]
  }
 ],
 "metadata": {
  "kernelspec": {
   "display_name": "Python 3 (ipykernel)",
   "language": "python",
   "name": "python3"
  },
  "language_info": {
   "codemirror_mode": {
    "name": "ipython",
    "version": 3
   },
   "file_extension": ".py",
   "mimetype": "text/x-python",
   "name": "python",
   "nbconvert_exporter": "python",
   "pygments_lexer": "ipython3",
   "version": "3.10.4"
  }
 },
 "nbformat": 4,
 "nbformat_minor": 5
}
